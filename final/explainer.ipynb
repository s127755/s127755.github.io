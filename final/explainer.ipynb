{
 "cells": [
  {
   "cell_type": "markdown",
   "metadata": {},
   "source": [
    "<h2>Motivation</h2>\n",
    "My primary dataset is from http://data.kk.dk/dataset/faste-trafiktaellinger and is about traffic (car) counts on different roads in Copenhagen. I find this dataset interesting because i live in Copenhagen and generally see a lot of traffic. I Want to know when there is more traffic than other times and i want to know more about how much traffic there actually is in Copenhagen.\n",
    "I've combined the linked dataset with other datasets from the same site.\n",
    "\n",
    "My goal for the end user is to better understand how the traffic flows in copenhagen."
   ]
  },
  {
   "cell_type": "markdown",
   "metadata": {},
   "source": [
    "<h2>Basic stats. Let's understand the dataset better</h2>\n",
    "\n",
    "The dataset started out being a bit messy and i had to manually copy the relevant data for each year from an excel file to another, and saving it as a .csv file in order to work with it through python. \n",
    "The next step was to rename some of the keys in the dataset, making them easier to use. I've changed the time-stamp keys from 'kl.00-01' to simply just '0' (all the way to 'kl.23-00' to just '23').\n",
    "Going through the dataset i've discovered that the coordinates were in a different coordinate system than what I have used before. They were in UTM32 coordinates while i wanted them in the LatLng coordinate system. I found another dataset which is linked to the main one with all counting station on, and also their LatLng coordinates. So i linked the two datasets getting coordinates for each of the counting stations.\n",
    "Afterwards I've made different smaller datasets witch is easier for the website to load comparet to iterating over the whole dataset time after time. These datasets contains averages of different data, which is explained on the site where i show my plots. \n",
    "\n",
    "Overall there are a total of 183.397 number of rows in my main dataset and it has a total size of 28MB."
   ]
  },
  {
   "cell_type": "markdown",
   "metadata": {},
   "source": [
    "<h2>Theory. Which theoretical tools did you use?</h2>\n",
    "\n",
    "<ul>\n",
    "<li>Describe which machine learning tools you use and why the tools you've chosen are right for the problem you're solving.</li>\n",
    "<li>Talk about your model selection. How did you split the data in to test/training. Did you use cross validation?</li>\n",
    "<li>Explain the model performance. How did you measure it? Are your results what you expected?</li>\n",
    "</ul>"
   ]
  },
  {
   "cell_type": "markdown",
   "metadata": {},
   "source": [
    "<h2>Visualizations</h2>\n",
    "\n",
    "For visualizations I've chosen to show some statistics using dot and line plots. These plots are always easy to understand and will be able to show statistics nicely to the end user.\n",
    "\n",
    "To show a more interesting visualization I've chosen to make a heatmap. This heatmap is changing the size of the circles together with how much traffic each station is recording the corrosponding hour. The end user is able to freely change the time in a timespan of one average week. \n",
    "This visualization can show the end user the times when they should avoid certain roads and when there is heavy traffic. And that is exactly what i wanted to show the end user. "
   ]
  },
  {
   "cell_type": "markdown",
   "metadata": {},
   "source": [
    "<h2>Discussion. Think critically about your creation</h2>\n",
    "\n",
    "I've nicely shown how the traffic of copenhagen is throughout a whole week and made a tool which makes it easy for the user to look at specific times. I've also made a lot of plots for the end user who wants to dive deeper into the datasets.\n",
    "There could have been a better user of theoretical tools im my assignment however i didn't find them very useful in understanding my dataset.\n",
    "Overall i think this assignment is great."
   ]
  }
 ],
 "metadata": {
  "kernelspec": {
   "display_name": "Python 2",
   "language": "python",
   "name": "python2"
  },
  "language_info": {
   "codemirror_mode": {
    "name": "ipython",
    "version": 2
   },
   "file_extension": ".py",
   "mimetype": "text/x-python",
   "name": "python",
   "nbconvert_exporter": "python",
   "pygments_lexer": "ipython2",
   "version": "2.7.11"
  }
 },
 "nbformat": 4,
 "nbformat_minor": 0
}
