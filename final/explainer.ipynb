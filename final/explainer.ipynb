{
 "cells": [
  {
   "cell_type": "markdown",
   "metadata": {},
   "source": [
    "<h2>Motivation</h2>\n",
    "My primary dataset is from http://data.kk.dk/dataset/faste-trafiktaellinger and is about traffic (car) counts on different roads in Copenhagen. I find this dataset interesting because i live in Copenhagen and generally see a lot of traffic. I Want to know when there is more traffic than other times and i want to know more about how much traffic there actually is in Copenhagen.\n",
    "I've combined the linked dataset with other datasets from the same site.\n",
    "\n",
    "My goal for the end user is to better understand how the traffic flows in copenhagen."
   ]
  },
  {
   "cell_type": "markdown",
   "metadata": {},
   "source": [
    "<h2>Basic stats. Let's understand the dataset better</h2>\n",
    "\n",
    "<ul>\n",
    "<li>Write about your choices in data cleaning and preprocessing</li>\n",
    "<li>Write a short section that discusses the dataset stats (here you can recycle the work you did for Project Assignment A)</li>\n",
    "</ul>"
   ]
  },
  {
   "cell_type": "markdown",
   "metadata": {},
   "source": [
    "<h2>Theory. Which theoretical tools did you use?</h2>\n",
    "\n",
    "<ul>\n",
    "<li>Describe which machine learning tools you use and why the tools you've chosen are right for the problem you're solving.</li>\n",
    "<li>Talk about your model selection. How did you split the data in to test/training. Did you use cross validation?</li>\n",
    "<li>Explain the model performance. How did you measure it? Are your results what you expected?</li>\n",
    "</ul>"
   ]
  },
  {
   "cell_type": "markdown",
   "metadata": {},
   "source": [
    "<h2>Visualizations</h2>\n",
    "\n",
    "<ul>\n",
    "<li>Explain the visualizations you've chosen.</li>\n",
    "<li>Why are they right for the story you want to tell?</li>\n",
    "</ul>"
   ]
  },
  {
   "cell_type": "markdown",
   "metadata": {},
   "source": [
    "<h2>Discussion. Think critically about your creation</h2>\n",
    "\n",
    "\n",
    "<ul>\n",
    "<li>What went well?,</li>\n",
    "<li>What is still missing? What could be improved?, Why?</li>\n",
    "</ul>"
   ]
  }
 ],
 "metadata": {
  "kernelspec": {
   "display_name": "Python 2",
   "language": "python",
   "name": "python2"
  },
  "language_info": {
   "codemirror_mode": {
    "name": "ipython",
    "version": 2
   },
   "file_extension": ".py",
   "mimetype": "text/x-python",
   "name": "python",
   "nbconvert_exporter": "python",
   "pygments_lexer": "ipython2",
   "version": "2.7.11"
  }
 },
 "nbformat": 4,
 "nbformat_minor": 0
}
